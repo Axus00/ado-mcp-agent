{
 "cells": [
  {
   "cell_type": "code",
   "execution_count": 14,
   "id": "01b59d4a",
   "metadata": {},
   "outputs": [],
   "source": [
    "from langgraph.graph import END, StateGraph\n",
    "from core.models.agent_state import AgentState\n",
    "from config.personality import AI_NAME\n",
    "from langchain_openai import ChatOpenAI\n",
    "from services.tools.llm_selector_tool import LLMSelectorTool\n",
    "import os\n",
    "from dotenv import load_dotenv\n",
    "\n",
    "\n",
    "load_dotenv()\n",
    "\n",
    "\n",
    "llm_orquester = LLMSelectorTool()"
   ]
  },
  {
   "cell_type": "code",
   "execution_count": 15,
   "id": "5a7d4fdd",
   "metadata": {},
   "outputs": [],
   "source": [
    "def select_llm(state: AgentState) -> AgentState: # type: ignore\n",
    "    \"\"\"Este nodo carga el asistente virtual\"\"\"\n",
    "    llm_selected = state[\"llm_choice\"]\n",
    "\n",
    "    if llm_selected in [\"openai\", \"mistralai\"]:\n",
    "        llms = llm_orquester._initialize_llms()\n",
    "        state[\"llm_selected\"] = llms.get(llm_selected)\n",
    "\n",
    "        if not state[\"llm_selected\"]:\n",
    "            state[\"message_error\"] = f\"LLM '{llm_selected}' no disponible\"\n",
    "    else:\n",
    "        state[\"llm_selected\"] = None\n",
    "        state[\"message_error\"] = f\"LLM '{llm_selected}' no reconocido\"\n",
    "\n",
    "\n",
    "    return state"
   ]
  },
  {
   "cell_type": "code",
   "execution_count": 16,
   "id": "a9f9cf83",
   "metadata": {},
   "outputs": [],
   "source": [
    "def initialize_llm(state: AgentState) -> AgentState: # type: ignore\n",
    "    user_message = state[\"user_input\"]\n",
    "    selected_llm = state[\"llm_selected\"]\n",
    "\n",
    "    if not selected_llm:\n",
    "        state[\"response\"] = \"No se ha seleccionado un LLM válido\"\n",
    "        return state\n",
    "\n",
    "    prompt = f\"\"\"\n",
    "\n",
    "        Analiza de acuerdo al prompt proporcionado la\n",
    "        solicitud del usuario\n",
    "\n",
    "        Contenta de manera coherente, teniendo encuenta\n",
    "        la siguiente personalidad: {AI_NAME}\n",
    "\n",
    "        El usuario te ha preguntado: {user_message}\n",
    "    \"\"\"\n",
    "    try:\n",
    "        response = selected_llm(prompt) # type: ignore\n",
    "        state[\"response\"] = response # type: ignore\n",
    "        return state\n",
    "    except Exception as e:\n",
    "        state[\"response\"] = f\"Error al procesar la solicitud: {str(e)}\"\n",
    "\n",
    "    return state"
   ]
  },
  {
   "cell_type": "code",
   "execution_count": 17,
   "id": "0c3d9f9f",
   "metadata": {},
   "outputs": [],
   "source": [
    "from langchain.tools import BaseTool\n",
    "from langchain_openai import ChatOpenAI\n",
    "from langchain_mistralai import ChatMistralAI\n",
    "from dotenv import load_dotenv\n",
    "from pydantic import PrivateAttr\n",
    "from typing import Any, Dict\n",
    "import os\n",
    "\n",
    "load_dotenv()\n",
    "\n",
    "class LLMSelectorTool(BaseTool):\n",
    "    name: str = \"llm_selector\"\n",
    "    description: str = \"Selecciona y ejecuta el LLM\"\n",
    "\n",
    "    _llm_instances: Dict[str, Any] = PrivateAttr()\n",
    "\n",
    "    def __init__(self):\n",
    "        super().__init__()\n",
    "        self._llm_instances = self._initialize_llms()\n",
    "\n",
    "    def _initialize_llms(self):\n",
    "        llms = {}\n",
    "\n",
    "        if os.getenv(\"OPENAI_API_KEY\"):\n",
    "            llms[\"openai\"] = ChatOpenAI(\n",
    "                model=\"gpt-4o\",\n",
    "                api_key=os.getenv(\"OPENAI_API_KEY\"),  # type: ignore\n",
    "                temperature=0.7\n",
    "            )\n",
    "\n",
    "        if os.getenv(\"MISTRAL_API_KEY\"):\n",
    "            llms[\"mistralai\"] = ChatMistralAI(\n",
    "                model_name=\"open-mistral-nemo\",\n",
    "                api_key=os.getenv(\"MISTRAL_API_KEY\"),  # type: ignore\n",
    "                temperature=0.7\n",
    "            )\n",
    "\n",
    "        return llms\n",
    "\n",
    "    def _run(self, llm_name: str) -> Any:\n",
    "        if llm_name not in self._llm_instances:\n",
    "            return f\"Modelo '{llm_name}' no está disponible.\"\n",
    "\n",
    "        llm = self._llm_instances[llm_name]\n",
    "        response = llm(\"Hola, ¿puedes decirme tu nombre?\")\n",
    "        return response.content"
   ]
  },
  {
   "cell_type": "code",
   "execution_count": 18,
   "id": "cb8a05a9",
   "metadata": {},
   "outputs": [
    {
     "data": {
      "image/png": "[encoded data removed]",
      "text/plain": [
       "<langgraph.graph.state.CompiledStateGraph object at 0x000001A256E72FD0>"
      ]
     },
     "execution_count": 18,
     "metadata": {},
     "output_type": "execute_result"
    }
   ],
   "source": [
    "from langgraph.checkpoint.memory import InMemorySaver\n",
    "\n",
    "graph = StateGraph(AgentState)\n",
    "\n",
    "graph.add_node(\"select_llm\", select_llm)\n",
    "graph.add_node(\"initialize_llm\", initialize_llm)\n",
    "\n",
    "graph.set_entry_point(\"select_llm\")\n",
    "\n",
    "graph.add_edge(\"select_llm\", \"initialize_llm\")\n",
    "graph.add_edge(\"initialize_llm\", END)\n",
    "\n",
    "memory = InMemorySaver()\n",
    "\n",
    "graph.compile(checkpointer=memory)"
   ]
  }
 ],
 "metadata": {
  "kernelspec": {
   "display_name": ".venv (3.13.5)",
   "language": "python",
   "name": "python3"
  },
  "language_info": {
   "codemirror_mode": {
    "name": "ipython",
    "version": 3
   },
   "file_extension": ".py",
   "mimetype": "text/x-python",
   "name": "python",
   "nbconvert_exporter": "python",
   "pygments_lexer": "ipython3",
   "version": "3.13.5"
  }
 },
 "nbformat": 4,
 "nbformat_minor": 5
}
